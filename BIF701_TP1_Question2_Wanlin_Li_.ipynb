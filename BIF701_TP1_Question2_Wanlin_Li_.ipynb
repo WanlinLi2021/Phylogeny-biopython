{
  "nbformat": 4,
  "nbformat_minor": 0,
  "metadata": {
    "colab": {
      "name": "BIF701_TP1_Question2_Wanlin_Li .ipynb",
      "provenance": [],
      "toc_visible": true
    },
    "kernelspec": {
      "name": "python3",
      "display_name": "Python 3"
    }
  },
  "cells": [
    {
      "cell_type": "markdown",
      "metadata": {
        "id": "1Iz64_ryJTL7"
      },
      "source": [
        "# TP1_Question2"
      ]
    },
    {
      "cell_type": "markdown",
      "metadata": {
        "id": "kOmdM3q5oajH"
      },
      "source": [
        "2. [35pts] Dans cette question nous allons évaluer **la qualité de différentes méthodes de reconstruction phylogénétique** sur des données de RFAM.\n",
        "\n",
        "Utiliser l’alignement FASTA (gaped) de la famille \n",
        "RF0001 : https://rfam.xfam.org/family/RF00001#tabview=tab2 \n",
        "ainsi que d’une autre famille\n",
        "au choix. \n",
        "\n",
        "Attention, toutes les familles ne fonctionnent pas car il manque\n",
        "de l’information."
      ]
    },
    {
      "cell_type": "markdown",
      "metadata": {
        "id": "sdUKmnF8pB6L"
      },
      "source": [
        "(a) [5pts] Faire une fonction\n",
        "\n",
        "lire_fasta(\\<fichier_ali>) qui prend en entrée le chemin d’un fichier\n",
        "d’alignement FASTA et retourne un alignement de type AlignIO\n",
        "de Biopython (https://biopython.org/wiki/AlignIO). \n",
        "\n",
        "Le nom des\n",
        "séquences doit être modifié. Il est dans le format X/Y et il ne faut\n",
        "garder que le X.\n",
        "\n",
        " S’il se retrouve plusieurs fois, en garder une au hasard.\n",
        " \n",
        "Indice: attribut .id. L’alignement de la fin doit avoir au plus 25\n",
        "séquences, les choisir au hasard."
      ]
    },
    {
      "cell_type": "code",
      "metadata": {
        "colab": {
          "base_uri": "https://localhost:8080/"
        },
        "id": "YCOlejxjI186",
        "outputId": "afe3f893-b793-4239-af83-0a77dff9cb5b"
      },
      "source": [
        "!pip install biopython"
      ],
      "execution_count": 1,
      "outputs": [
        {
          "output_type": "stream",
          "text": [
            "Collecting biopython\n",
            "\u001b[?25l  Downloading https://files.pythonhosted.org/packages/3a/cd/0098eaff841850c01da928c7f509b72fd3e1f51d77b772e24de9e2312471/biopython-1.78-cp37-cp37m-manylinux1_x86_64.whl (2.3MB)\n",
            "\u001b[K     |████████████████████████████████| 2.3MB 6.9MB/s \n",
            "\u001b[?25hRequirement already satisfied: numpy in /usr/local/lib/python3.7/dist-packages (from biopython) (1.19.5)\n",
            "Installing collected packages: biopython\n",
            "Successfully installed biopython-1.78\n"
          ],
          "name": "stdout"
        }
      ]
    },
    {
      "cell_type": "code",
      "metadata": {
        "id": "W4DnJorYp2vW"
      },
      "source": [
        "from Bio import AlignIO\n",
        "from Bio import SeqIO\n",
        "from io import StringIO\n",
        "import re\n",
        "from random import randint"
      ],
      "execution_count": 165,
      "outputs": []
    },
    {
      "cell_type": "code",
      "metadata": {
        "id": "YjLjjhUiosAn"
      },
      "source": [
        "from Bio.Seq import Seq\n",
        "from Bio.SeqRecord import SeqRecord\n",
        "from Bio.Align import MultipleSeqAlignment\n",
        "\n",
        "def lire_fasta(fichier_ali):\n",
        "  alignment = AlignIO.read(open(fichier_ali), \"fasta\")\n",
        "  ali_Dict = {}          # S’il se retrouve plusieurs fois, en garder une au hasard.\n",
        "                        # Donc, employer le dictionnaire\n",
        "  while len(ali_Dict) < 25:\n",
        "    i = randint(0,len(alignment)-1) # choisir l'index des séquences au hasard.\n",
        "    ali_ID = re.sub(r\"\\/\\d*-\\d*\", \"\", alignment[i].id)   \n",
        "    #Il est dans le format X/Y et il ne faut garder que le X.\n",
        "    ali_Dict[ali_ID] = str(alignment[i].seq)\n",
        "    # dictionary ----> MultipleSeqAlignment object \n",
        "  seqRecord_list = []\n",
        "  for key, value in ali_Dict.items():\n",
        "    record = SeqRecord(Seq(value), id=key)\n",
        "    seqRecord_list.append(record)\n",
        "    #retourner un alignement de type AlignIO de Biopython\n",
        "  align = MultipleSeqAlignment(seqRecord_list,\n",
        "                              annotations={\"tool\": \"demo\"})\n",
        "  return align\n"
      ],
      "execution_count": 166,
      "outputs": []
    },
    {
      "cell_type": "code",
      "metadata": {
        "colab": {
          "base_uri": "https://localhost:8080/"
        },
        "id": "M59g6D5oqlaq",
        "outputId": "4c7375f1-b821-4659-b880-a6a363f4fd4f"
      },
      "source": [
        "data = lire_fasta('RF00001.afa.txt')\n",
        "print(data)"
      ],
      "execution_count": 5,
      "outputs": [
        {
          "output_type": "stream",
          "text": [
            "Alignment with 25 rows and 230 columns\n",
            "--GGGUGC-GA-U-C-AU-ACC----AG-C-G-U-U---AA---...CCU M10433.1\n",
            "--CCUGAC-GA-C-C-AU-AGC----GA-G-G-U-G---GU---...GGC M35569.1\n",
            "--GUCGGU-GG-U-U-UU-AGC----GG-A-GCG-G---GG---...ACA Z50077.1\n",
            "------GU-GG-A-U-UA-GGC----GA-A-G-A-G---GU---...--- Z11820.1\n",
            "--UUCGGC-GG-C-C-AU-AGC----GA-G-A-G-G---GA---...GAC M16169.1\n",
            "------GC-GG-C-C-AG-GGC----GG-A-G-G-G---GA---...--- L27343.1\n",
            "--UUCGGU-GG-U-U-UU-GGC----GA-A-G-G-G---GA---...GAC M55343.1\n",
            "--GCUUG--GG-C-G-AG-AGU----AG-U-A-C-U---AG---...UCC AY544288.1\n",
            "--CUUGGU-CA-C-C-AU-AGC----GU-C-A-G-A---UA---...AG- L37447.1\n",
            "--UUCGGC-GG-C-C-AU-AGC----GA-G-A-G-G---GA---...GAC M60936.1\n",
            "--CCUGGU-GG-C-C-AU-UGC----GA-G-G-G-C---CC---...GGU M76577.1\n",
            "--UUUGGU-AU-U-U-AU-UGC----AU-A-G-G-A---GA---...AGU X75364.1\n",
            "--AGGAAC-GG-C-C-AU-ACC----AC-G-C-C-G---AU---...CU- D16558.1\n",
            "--GUAGAC-GG-C-C-AU-CUU----AG-G-C-U-G---AA---...ACA EF661646.1\n",
            "--ACAUAC-GG-C-C-AU-AAC----UA-U-C-A-G---AU---...GU- AY924923.1\n",
            "--GCA-GC-GG-C-C-AU-AGC----GG-U-G-G-G---GC---...GCC L27162.1\n",
            "--CUUGGU-GG-U-U-AU-GGC----GG-A-A-C-G---CC---...GGU L08503.1\n",
            "--GGAUGC-GG-U-C-AU-ACC----AA-G-G-C-U---AC---...CCA X01619.1\n",
            "...\n",
            "--UACGGC-GA-U-U-AU-AUC----CC-A-G-G-U---GU---...UAU M33894.1\n"
          ],
          "name": "stdout"
        }
      ]
    },
    {
      "cell_type": "markdown",
      "metadata": {
        "id": "1zC3LO7Tp-Rf"
      },
      "source": [
        "(b) [5pts] Faire une fonction\n",
        "\n",
        "matrice_distance(\\<ali>) qui prend un alignement tel que produit\n",
        "par la fonction précédente et retourne une matrice de distance. \n",
        "\n",
        "Pour\n",
        "ce faire, utiliser DistanceCalculator de Biopython avec le modèle\n",
        "identity (voir https://biopython.org/docs/1.75/api/Bio.Phylo.TreeConstruction.html)."
      ]
    },
    {
      "cell_type": "code",
      "metadata": {
        "id": "SmZCRmaB1xig"
      },
      "source": [
        "from Bio.Phylo.TreeConstruction import DistanceCalculator\n",
        "from Bio import AlignIO"
      ],
      "execution_count": 6,
      "outputs": []
    },
    {
      "cell_type": "code",
      "metadata": {
        "id": "uFia41AvqPt6"
      },
      "source": [
        "def matrice_distance(ali):\n",
        "  calculator = DistanceCalculator('identity')\n",
        "  dm = calculator.get_distance(ali)\n",
        "  return dm\n"
      ],
      "execution_count": 7,
      "outputs": []
    },
    {
      "cell_type": "code",
      "metadata": {
        "colab": {
          "base_uri": "https://localhost:8080/"
        },
        "id": "sro3uWuAqyNh",
        "outputId": "7c61d191-9fcb-4fc0-c269-895b15bc2864"
      },
      "source": [
        "data = lire_fasta('RF00001.afa.txt')\n",
        "md = matrice_distance(data)\n",
        "print(md)\n",
        "type(md)"
      ],
      "execution_count": null,
      "outputs": [
        {
          "output_type": "stream",
          "text": [
            "Z50060.1\t0\n",
            "K03168.1\t0.30869565217391304\t0\n",
            "X06848.1\t0.26521739130434785\t0.17391304347826086\t0\n",
            "AF516460.1\t0.33913043478260874\t0.32173913043478264\t0.33478260869565213\t0\n",
            "AY544489.1\t0.30000000000000004\t0.28260869565217395\t0.29130434782608694\t0.29565217391304344\t0\n",
            "AB109769.1\t0.16956521739130437\t0.29130434782608694\t0.27826086956521734\t0.32173913043478264\t0.26086956521739135\t0\n",
            "AY007786.1\t0.31739130434782614\t0.19565217391304346\t0.23478260869565215\t0.28695652173913044\t0.25217391304347825\t0.29130434782608694\t0\n",
            "X16688.1\t0.34347826086956523\t0.20434782608695656\t0.19565217391304346\t0.34347826086956523\t0.27391304347826084\t0.29565217391304344\t0.23478260869565215\t0\n",
            "X12624.1\t0.28695652173913044\t0.15652173913043477\t0.20869565217391306\t0.30000000000000004\t0.24347826086956526\t0.29130434782608694\t0.18695652173913047\t0.22173913043478266\t0\n",
            "AL096764.11\t0.28695652173913044\t0.19999999999999996\t0.24347826086956526\t0.33913043478260874\t0.24782608695652175\t0.27826086956521734\t0.22608695652173916\t0.28695652173913044\t0.11304347826086958\t0\n",
            "M35164.1\t0.22608695652173916\t0.32608695652173914\t0.29565217391304344\t0.31304347826086953\t0.31739130434782614\t0.20434782608695656\t0.33478260869565213\t0.33913043478260874\t0.30434782608695654\t0.30434782608695654\t0\n",
            "M24954.1\t0.27391304347826084\t0.16956521739130437\t0.21304347826086956\t0.31739130434782614\t0.24782608695652175\t0.27391304347826084\t0.18695652173913047\t0.22173913043478266\t0.05652173913043479\t0.12608695652173918\t0.30434782608695654\t0\n",
            "K02348.1\t0.30434782608695654\t0.19999999999999996\t0.18695652173913047\t0.28695652173913044\t0.22173913043478266\t0.25652173913043474\t0.21739130434782605\t0.20869565217391306\t0.10434782608695647\t0.16086956521739126\t0.25217391304347825\t0.13043478260869568\t0\n",
            "X01534.1\t0.28695652173913044\t0.19130434782608696\t0.16956521739130437\t0.30000000000000004\t0.22608695652173916\t0.24347826086956526\t0.19130434782608696\t0.18695652173913047\t0.09565217391304348\t0.15652173913043477\t0.27826086956521734\t0.09999999999999998\t0.08260869565217388\t0\n",
            "AJ131602.1\t0.24782608695652175\t0.28695652173913044\t0.29130434782608694\t0.33913043478260874\t0.30869565217391304\t0.22608695652173916\t0.28260869565217395\t0.28695652173913044\t0.28695652173913044\t0.30000000000000004\t0.23478260869565215\t0.29130434782608694\t0.26086956521739135\t0.25652173913043474\t0\n",
            "M11535.1\t0.18695652173913047\t0.27391304347826084\t0.25652173913043474\t0.29130434782608694\t0.25652173913043474\t0.17391304347826086\t0.27826086956521734\t0.28695652173913044\t0.26956521739130435\t0.27826086956521734\t0.23043478260869565\t0.26956521739130435\t0.26956521739130435\t0.24782608695652175\t0.17826086956521736\t0\n",
            "X03911.1\t0.28695652173913044\t0.15217391304347827\t0.15652173913043477\t0.30000000000000004\t0.22608695652173916\t0.25652173913043474\t0.18695652173913047\t0.18695652173913047\t0.09130434782608698\t0.14782608695652177\t0.29565217391304344\t0.09565217391304348\t0.08695652173913049\t0.05652173913043479\t0.27391304347826084\t0.26086956521739135\t0\n",
            "L27168.1\t0.22173913043478266\t0.30434782608695654\t0.27391304347826084\t0.33043478260869563\t0.26521739130434785\t0.24347826086956526\t0.28260869565217395\t0.28260869565217395\t0.25217391304347825\t0.28695652173913044\t0.27826086956521734\t0.25652173913043474\t0.24782608695652175\t0.25217391304347825\t0.23043478260869565\t0.21304347826086956\t0.24347826086956526\t0\n",
            "AF095839.1\t0.30434782608695654\t0.20434782608695656\t0.22173913043478266\t0.31304347826086953\t0.24347826086956526\t0.24347826086956526\t0.15652173913043477\t0.20869565217391306\t0.16521739130434787\t0.19130434782608696\t0.29565217391304344\t0.13913043478260867\t0.16956521739130437\t0.13478260869565217\t0.29565217391304344\t0.27391304347826084\t0.15217391304347827\t0.27826086956521734\t0\n",
            "DQ776912.1\t0.28695652173913044\t0.26956521739130435\t0.27391304347826084\t0.25217391304347825\t0.19565217391304346\t0.27391304347826084\t0.24347826086956526\t0.27826086956521734\t0.21739130434782605\t0.25652173913043474\t0.30869565217391304\t0.21739130434782605\t0.23043478260869565\t0.21304347826086956\t0.30434782608695654\t0.24782608695652175\t0.21304347826086956\t0.27826086956521734\t0.22173913043478266\t0\n",
            "M35565.1\t0.22608695652173916\t0.29130434782608694\t0.30000000000000004\t0.31304347826086953\t0.31304347826086953\t0.19999999999999996\t0.28260869565217395\t0.30869565217391304\t0.27826086956521734\t0.28260869565217395\t0.22173913043478266\t0.27826086956521734\t0.29565217391304344\t0.27826086956521734\t0.18260869565217386\t0.10869565217391308\t0.27826086956521734\t0.21304347826086956\t0.29565217391304344\t0.29130434782608694\t0\n",
            "M10438.1\t0.26956521739130435\t0.18695652173913047\t0.22608695652173916\t0.25652173913043474\t0.22173913043478266\t0.27826086956521734\t0.19130434782608696\t0.26521739130434785\t0.15217391304347827\t0.19130434782608696\t0.30869565217391304\t0.16521739130434787\t0.16956521739130437\t0.16521739130434787\t0.28695652173913044\t0.24782608695652175\t0.14782608695652177\t0.24782608695652175\t0.18260869565217386\t0.18695652173913047\t0.26086956521739135\t0\n",
            "AF331021.1\t0.29565217391304344\t0.22173913043478266\t0.23913043478260865\t0.19130434782608696\t0.14347826086956517\t0.24347826086956526\t0.22173913043478266\t0.23478260869565215\t0.17826086956521736\t0.20869565217391306\t0.30000000000000004\t0.19565217391304346\t0.15652173913043477\t0.17826086956521736\t0.29565217391304344\t0.23478260869565215\t0.16956521739130437\t0.24347826086956526\t0.19565217391304346\t0.10869565217391308\t0.27826086956521734\t0.13913043478260867\t0\n",
            "AB035926.1\t0.22608695652173916\t0.28260869565217395\t0.26086956521739135\t0.32173913043478264\t0.27391304347826084\t0.18260869565217386\t0.28260869565217395\t0.30000000000000004\t0.27826086956521734\t0.27391304347826084\t0.24782608695652175\t0.28260869565217395\t0.26956521739130435\t0.24347826086956526\t0.18695652173913047\t0.09565217391304348\t0.25652173913043474\t0.23913043478260865\t0.25652173913043474\t0.29130434782608694\t0.14782608695652177\t0.26086956521739135\t0.27826086956521734\t0\n",
            "X13035.1\t0.30434782608695654\t0.18695652173913047\t0.16956521739130437\t0.30869565217391304\t0.23478260869565215\t0.25652173913043474\t0.20434782608695656\t0.20869565217391306\t0.12173913043478257\t0.17391304347826086\t0.29130434782608694\t0.12173913043478257\t0.09130434782608698\t0.06521739130434778\t0.27391304347826084\t0.27391304347826084\t0.05217391304347829\t0.25652173913043474\t0.16086956521739126\t0.22608695652173916\t0.29130434782608694\t0.18260869565217386\t0.18260869565217386\t0.27391304347826084\t0\n",
            "\tZ50060.1\tK03168.1\tX06848.1\tAF516460.1\tAY544489.1\tAB109769.1\tAY007786.1\tX16688.1\tX12624.1\tAL096764.11\tM35164.1\tM24954.1\tK02348.1\tX01534.1\tAJ131602.1\tM11535.1\tX03911.1\tL27168.1\tAF095839.1\tDQ776912.1\tM35565.1\tM10438.1\tAF331021.1\tAB035926.1\tX13035.1\n"
          ],
          "name": "stdout"
        },
        {
          "output_type": "execute_result",
          "data": {
            "text/plain": [
              "Bio.Phylo.TreeConstruction.DistanceMatrix"
            ]
          },
          "metadata": {
            "tags": []
          },
          "execution_count": 194
        }
      ]
    },
    {
      "cell_type": "markdown",
      "metadata": {
        "id": "zsvUgZCwqQbs"
      },
      "source": [
        "(c) [10pts] Faire une fonction\n",
        "\n",
        "arbre_nj(\\<mat_dist>) qui à partir d’une matrice de distance retourne l’arbre NJ dans une string en format NEWICK voir https://biopython.org/wiki/Phylo."
      ]
    },
    {
      "cell_type": "code",
      "metadata": {
        "id": "q2ARauW6F4RA"
      },
      "source": [
        "from Bio.Phylo.TreeConstruction import DistanceTreeConstructor\n",
        "from Bio import Phylo"
      ],
      "execution_count": 8,
      "outputs": []
    },
    {
      "cell_type": "code",
      "metadata": {
        "id": "WVAtmzxyrXl0"
      },
      "source": [
        "def arbre_nj(mat_dist):\n",
        "  #Constructeur pour les arbres\n",
        "  constructor = DistanceTreeConstructor()\n",
        "  tree_nj = constructor.nj(mat_dist)\n",
        "  # write the information of tree in the \"newick\"format \n",
        "  tree_nj_newick = tree_nj.format(\"newick\")\n",
        "\n",
        "  return tree_nj_newick\n",
        "\n"
      ],
      "execution_count": 9,
      "outputs": []
    },
    {
      "cell_type": "code",
      "metadata": {
        "colab": {
          "base_uri": "https://localhost:8080/"
        },
        "id": "46HXduxPjHm7",
        "outputId": "e4679f14-31b8-4ef8-9642-dd876cf49524"
      },
      "source": [
        "data = lire_fasta('RF00001.afa.txt')\n",
        "md = matrice_distance(data)\n",
        "arbre = arbre_nj(md)\n",
        "print(arbre)"
      ],
      "execution_count": null,
      "outputs": [
        {
          "output_type": "stream",
          "text": [
            "(((M76575.1:0.08754,(L37451.1:0.07817,(AF088897.1:0.03871,L37447.1:0.05259)Inner9:0.01313)Inner12:0.01789)Inner18:0.01611,((((Z50059.1:0.03428,(X55254.1:0.01599,M33888.1:0.01009)Inner3:0.01137)Inner6:0.00915,M27245.1:0.03650)Inner7:0.04779,((X72495.1:0.07818,X62865.1:0.09138)Inner10:0.03383,(X02729.1:0.12850,((M10435.1:0.08179,(EF175853.1:0.07505,AF237320.1:0.05974)Inner1:0.04429)Inner4:0.02479,(K01050.1:0.11855,(X02031.1:0.06616,X54477.1:0.09906)Inner2:0.03580)Inner8:0.01081)Inner11:0.02109)Inner13:0.01250)Inner15:0.01351)Inner19:0.00820,(X57791.1:0.09870,(X12884.1:0.05751,AJ251080.1:0.04683)Inner14:0.01217)Inner16:0.01463)Inner20:0.01261)Inner22:0.00427,(AJ131588.1:0.09544,M34759.1:0.10021)Inner17:0.01500,(X00757.1:0.11604,(X02260.1:0.04720,X02022.1:0.03106)Inner5:0.04266)Inner21:0.00946)Inner23:0.00000;\n",
            "\n"
          ],
          "name": "stdout"
        }
      ]
    },
    {
      "cell_type": "markdown",
      "metadata": {
        "id": "bDxbt7UxrYAd"
      },
      "source": [
        "(d) [5pts] Faire une fonction\n",
        "\n",
        "melange_newick(<ali>) qui retourne un arbre en format newick tel\n",
        "que fait précédemment, mais avec les noms mélangés aléatoirement."
      ]
    },
    {
      "cell_type": "code",
      "metadata": {
        "id": "O9Z7syd_Ezil"
      },
      "source": [
        "import random"
      ],
      "execution_count": 10,
      "outputs": []
    },
    {
      "cell_type": "code",
      "metadata": {
        "id": "b74yAhwlrn0V"
      },
      "source": [
        "def melange_newick(data):\n",
        "  # mélanger les sequences aléatoirement.\n",
        "  data_original = list(data)\n",
        "  random.shuffle(data_original)\n",
        "  data_shuffle = MultipleSeqAlignment(data_original)\n",
        "\n",
        "  #print(data_shuffle)\n",
        "\n",
        "  from Bio.Phylo.TreeConstruction import DistanceTreeConstructor\n",
        "  calculator = DistanceCalculator('identity')\n",
        "  constructor = DistanceTreeConstructor(calculator, 'nj')\n",
        "  tree2 = constructor.build_tree(data_shuffle)\n",
        "  #print(tree2)\n",
        "\n",
        "  # write the information of tree  in the \"newick\"format \n",
        "  tree_nj2_newick = tree2.format(\"newick\")\n",
        "  return tree_nj2_newick\n",
        "\n"
      ],
      "execution_count": 11,
      "outputs": []
    },
    {
      "cell_type": "code",
      "metadata": {
        "colab": {
          "base_uri": "https://localhost:8080/"
        },
        "id": "M5q3xtjCjTuT",
        "outputId": "6758b9e7-e61e-482a-baca-0e5113398751"
      },
      "source": [
        "data = lire_fasta('RF00001.afa.txt')\n",
        "md = matrice_distance(data)\n",
        "arbre = arbre_nj(md)\n",
        "print(arbre)\n",
        "arbre2 = melange_newick(data)\n",
        "print(arbre2)"
      ],
      "execution_count": null,
      "outputs": [
        {
          "output_type": "stream",
          "text": [
            "(((M36307.1:0.08346,X16688.1:0.11654)Inner18:0.02017,((AF516423.1:0.09166,(EF175854.1:0.07039,DQ776911.1:0.06439)Inner3:0.03443)Inner16:0.03279,((D00059.1:0.08994,X06103.1:0.09267)Inner17:0.01801,(((D13620.1:0.04604,(Z50073.1:0.04472,X55255.1:0.05093)Inner8:0.01048)Inner9:0.04303,(M35165.1:0.11137,(X05525.1:0.08399,((((X05517.1:0.00826,X01555.1:0.00913)Inner4:0.00137,X01556.1:0.00732)Inner5:0.02478,(X16193.1:0.02144,X02030.1:0.02639)Inner6:0.01544)Inner7:0.03653,(X02629.1:0.00000,AJ131593.1:0.00000)Inner1:0.10694)Inner10:0.00433)Inner11:0.01092)Inner12:0.01140)Inner13:0.02496,(M34911.1:0.10542,M36186.1:0.12066)Inner14:0.01810)Inner15:0.03291)Inner19:0.01074)Inner21:0.00510)Inner22:0.00320,((M10817.1:0.01433,J01012.1:0.03350)Inner2:0.05533,X52047.1:0.09902)Inner20:0.01078,AF158095.1:0.09792)Inner23:0.00000;\n",
            "\n",
            "(((M36307.1:0.08346,X16688.1:0.11654)Inner18:0.02017,((AF516423.1:0.09166,(DQ776911.1:0.06439,EF175854.1:0.07039)Inner3:0.03443)Inner16:0.03279,((X06103.1:0.09267,D00059.1:0.08994)Inner17:0.01801,((M34911.1:0.10542,M36186.1:0.12066)Inner14:0.01810,((D13620.1:0.04604,(Z50073.1:0.04472,X55255.1:0.05093)Inner8:0.01048)Inner9:0.04303,(M35165.1:0.11137,(X05525.1:0.08399,((X02629.1:0.00000,AJ131593.1:0.00000)Inner1:0.10694,((X02030.1:0.02639,X16193.1:0.02144)Inner6:0.01544,(X01556.1:0.00732,(X05517.1:0.00826,X01555.1:0.00913)Inner4:0.00137)Inner5:0.02478)Inner7:0.03653)Inner10:0.00433)Inner11:0.01092)Inner12:0.01140)Inner13:0.02496)Inner15:0.03291)Inner19:0.01074)Inner21:0.00510)Inner22:0.00320,(X52047.1:0.09902,(M10817.1:0.01433,J01012.1:0.03350)Inner2:0.05533)Inner20:0.01078,AF158095.1:0.09792)Inner23:0.00000;\n",
            "\n"
          ],
          "name": "stdout"
        }
      ]
    },
    {
      "cell_type": "markdown",
      "metadata": {
        "id": "TFvn7Q3Mrrjj"
      },
      "source": [
        "(e) [10pts]\n",
        "Faire une fonction\n",
        "\n",
        "eval_ete(fichier_ali) qui prend en entrée le chemin d’un fichier\n",
        "d’alignement FASTA et va faire 10 fois:\n",
        "\n",
        "• Créer un arbre newick avec 25 séquences, ainsi que celui avec les\n",
        "noms mélangés.\n",
        "\n",
        "• Créer le vrai arbre de NCBI pour ces 25 séquences Indice: http:\n",
        "//etetoolkit.org/docs/latest/tutorial/tutorial_ncbitaxonomy.\n",
        "html\n",
        "\n",
        "• Calculer le ratio entre la distance Robinson-Foulds de l’arbre NJ\n",
        "et le vrai arbre NCBI divisé par la distance Robinson-Foulds de l’arbre mélangé et le vrai arbre NCBI.\n",
        "\n",
        "Faire 2 figures, une par famille RFAM. Chaque figure représente les\n",
        "ratios des 25 simulations. Discuter en maximum une page."
      ]
    },
    {
      "cell_type": "code",
      "metadata": {
        "id": "Pl2UB-BIp0q3",
        "colab": {
          "base_uri": "https://localhost:8080/"
        },
        "outputId": "c77c5f66-4c72-4813-d883-3494214f9dba"
      },
      "source": [
        "!pip install ete3"
      ],
      "execution_count": 167,
      "outputs": [
        {
          "output_type": "stream",
          "text": [
            "Requirement already satisfied: ete3 in /usr/local/lib/python3.7/dist-packages (3.1.2)\n"
          ],
          "name": "stdout"
        }
      ]
    },
    {
      "cell_type": "code",
      "metadata": {
        "id": "IcP4-nU0Vc5-"
      },
      "source": [
        ""
      ],
      "execution_count": null,
      "outputs": []
    },
    {
      "cell_type": "code",
      "metadata": {
        "id": "yN28Kqy8NUnv"
      },
      "source": [
        "# (0) lire un fichier d’alignement FASTA, choisir 25 séquences au hasard.\n",
        "myData = lire_fasta('RF00001.afa.txt')"
      ],
      "execution_count": 307,
      "outputs": []
    },
    {
      "cell_type": "code",
      "metadata": {
        "id": "Tl-0g5LF8sRi"
      },
      "source": [
        "myData = lire_fasta('RF00002.afa.txt')"
      ],
      "execution_count": 299,
      "outputs": []
    },
    {
      "cell_type": "code",
      "metadata": {
        "id": "mg1zrIpSPHyF"
      },
      "source": [
        "#(1) Créer le vrai arbre de NCBI pour ces 25 séquences\n",
        "\n",
        "# 1.1) obtenir les ID de NCBI, mettre des ID_alignement et ID_NCBI_tax dans un dictionnaire.\n",
        "\n",
        "def getTaxIDs(data):\n",
        "  from Bio import Entrez\n",
        "  Entrez.email = 'wanlinli2018@gmail.com'\n",
        "  tax_ids_dict = {}\n",
        "  for align in data:\n",
        "    #print(align.id)\n",
        "    tax_ids_dict[align.id] = Entrez.read(Entrez.elink(db='taxonomy', \n",
        "                                            dbfrom='nuccore', \n",
        "                                            id=align.id))[0]['LinkSetDb'][0]['Link'][0]['Id']\n",
        "  return tax_ids_dict"
      ],
      "execution_count": 308,
      "outputs": []
    },
    {
      "cell_type": "code",
      "metadata": {
        "colab": {
          "base_uri": "https://localhost:8080/"
        },
        "id": "ePUnM_kmRT5U",
        "outputId": "96e3e7a1-ecf3-4af9-c395-f958acb45006"
      },
      "source": [
        "ids_dict = getTaxIDs(myData)\n",
        "print(\"ids_dict\",ids_dict)\n",
        "\n",
        "ids_ncbi_tax = list(ids_dict.values())\n",
        "print(\"ids_ncbi_tax\",ids_ncbi_tax)"
      ],
      "execution_count": 309,
      "outputs": [
        {
          "output_type": "stream",
          "text": [
            "ids_dict {'Z50058.1': '76726', 'K03161.1': '5342', 'X52301.1': '1144275', 'M16531.1': '275', 'X02013.1': '1402', 'X02023.1': '1404', 'U01070.1': '743971', 'M34762.1': '414', 'X02028.1': '1393', 'AJ510153.1': '1247', 'X02251.1': '28169', 'U42342.1': '6304', 'Z49275.1': '40145', 'AY034724.1': '112518', 'M34910.1': '2221', 'X55264.1': '33889', 'AF237322.1': '58927', 'M16530.1': '2288', 'M35167.1': '120', 'X15179.1': '689', 'AF330837.1': '3702', 'X61066.1': '2148', 'D90253.1': '929563', 'X00072.1': '5281', 'X06854.1': '5331'}\n",
            "ids_ncbi_tax ['76726', '5342', '1144275', '275', '1402', '1404', '743971', '414', '1393', '1247', '28169', '6304', '40145', '112518', '2221', '33889', '58927', '2288', '120', '689', '3702', '2148', '929563', '5281', '5331']\n"
          ],
          "name": "stdout"
        }
      ]
    },
    {
      "cell_type": "code",
      "metadata": {
        "id": "7apTE85rTXh6"
      },
      "source": [
        "# La première fois il faut télécharger la DB\n",
        "\n",
        "from ete3 import NCBITaxa\n",
        "ncbi = NCBITaxa()"
      ],
      "execution_count": 310,
      "outputs": []
    },
    {
      "cell_type": "code",
      "metadata": {
        "id": "f_gYTL_HVzOl"
      },
      "source": [
        "# 1.2) Arbre des taxonomies ETE3\n",
        "from ete3 import Tree\n",
        "from ete3 import NCBITaxa\n",
        "\n",
        "def creeNCBIArbre(ids_dict):\n",
        "  ncbi = NCBITaxa()\n",
        "  # obtenir les ID \n",
        "  tax_ids_ncbi = list(ids_dict.values())\n",
        "  tree_ncbi = ncbi.get_topology(tax_ids_ncbi)\n",
        "  #print(tree_ncbi)\n",
        "  tree_ncbi_nwk = tree_ncbi.write()\n",
        "  return tree_ncbi_nwk"
      ],
      "execution_count": 311,
      "outputs": []
    },
    {
      "cell_type": "code",
      "metadata": {
        "colab": {
          "base_uri": "https://localhost:8080/",
          "height": 69
        },
        "id": "Ldvpii68WsRP",
        "outputId": "4569c952-4159-4e34-f8b1-97b936f124fe"
      },
      "source": [
        "tree_ncbi_nwk = creeNCBIArbre(ids_dict)\n",
        "tree_ncbi_nwk"
      ],
      "execution_count": 312,
      "outputs": [
        {
          "output_type": "execute_result",
          "data": {
            "application/vnd.google.colaboratory.intrinsic+json": {
              "type": "string"
            },
            "text/plain": [
              "'((((((40145:1,5342:1)1:1,5331:1)1:1,5281:1)1:1,6304:1)1:1,(3702:1,(112518:1,58927:1)1:1)1:1)1:1,((((28169:1,689:1)1:1,414:1)1:1,1144275:1)1:1,((2148:1,743971:1)1:1,(76726:1,33889:1)1:1,(((1404:1,1402:1)1:1,1393:1)1:1,1247:1)1:1,275:1)1:1,929563:1,120:1)1:1,(2221:1,2288:1)1:1);'"
            ]
          },
          "metadata": {
            "tags": []
          },
          "execution_count": 312
        }
      ]
    },
    {
      "cell_type": "code",
      "metadata": {
        "colab": {
          "base_uri": "https://localhost:8080/"
        },
        "id": "X_DkOixLPl8F",
        "outputId": "2e5df75a-09ad-4c68-a861-1802764c0b59"
      },
      "source": [
        "# (3.1) Créer un arbre newick avec ces 25 séquences, changer ID_alignement à ID_NCBI_tax\n",
        "#ainsi que celui avec les noms mélangés\n",
        "def changerID(data):\n",
        "  # change the id\n",
        "  data2 = data\n",
        "  for item in data2:\n",
        "    item.id = str(ids_dict[item.id])    # Très très important, assurer le type d'ID,str()\n",
        "  return data2\n",
        "\n",
        "dataWithIDtax = changerID(myData)\n",
        "dataWithIDtax"
      ],
      "execution_count": 313,
      "outputs": [
        {
          "output_type": "execute_result",
          "data": {
            "text/plain": [
              "<<class 'Bio.Align.MultipleSeqAlignment'> instance (25 records of length 230) at 7f1912bc88d0>"
            ]
          },
          "metadata": {
            "tags": []
          },
          "execution_count": 313
        }
      ]
    },
    {
      "cell_type": "code",
      "metadata": {
        "colab": {
          "base_uri": "https://localhost:8080/"
        },
        "id": "RxSx8r8fpDjS",
        "outputId": "fc5de4f3-db38-4458-c48e-a82e73799266"
      },
      "source": [
        "print(dataWithIDtax)"
      ],
      "execution_count": 314,
      "outputs": [
        {
          "output_type": "stream",
          "text": [
            "Alignment with 25 rows and 230 columns\n",
            "--GUCGGU-GG-U-U-AU-GGC----GG-A-G-G-G---GG---...ACA 76726\n",
            "--AUCCAC-GG-C-C-AU-AGG----AC-U-G-U-G---AA---...UU- 5342\n",
            "--UCGGGU-GG-C-A-AU-GUC----GG-A-G-G-G---GU---...GAU 1144275\n",
            "--CCUCGG-GA-C-C-AU-AGC----GG-A-G-G-G---GA---...GGG 275\n",
            "--UUUGGU-GG-C-G-AU-AGC----GA-A-G-A-G---GU---...AGC 1402\n",
            "--UCUGGU-GG-C-G-AU-AGC----GA-A-G-A-G---GU---...GGC 1404\n",
            "-----AGU-AA-C-A-AU-AGC----AA-A-A-G-G---GA---...--- 743971\n",
            "---UUGGU-GA-C-C-AU-AGC----GA-G-C-G-U---GA---...AA- 414\n",
            "--UCUGGU-GA-U-G-AU-GGC----GG-A-G-G-G---GA---...GGC 1393\n",
            "--UGUCGU-GU-U-A-AU-UCC----GA-U-G-A-G---GU---...UG- 1247\n",
            "--CUUGGC-GA-C-C-AU-AGC----GU-U-G-U-G---GA---...GGC 28169\n",
            "--GAUUAC-GA-C-C-AU-ACC----GC-G-U-U-G---AA---...UCU 6304\n",
            "--AUCCAC-GG-C-C-AU-AGG----AC-U-C-U-G---AA---...UU- 40145\n",
            "--GGAUGC-GA-U-C-AU-ACC----CG-C-A-C-U---AA---...UCC 112518\n",
            "--UUUGGC-GG-C-C-AU-AGC----GG-C-G-G-G---GC---...UCU 2221\n",
            "--UGCGGU-GG-U-G-AU-AGU----GG-U-G-G-G---GA---...CAA 33889\n",
            "--AGGGGC-GU-C-G-UU--GC----GG-U-G-G-A---AA---...UCC 58927\n",
            "----ACCC-GG-C-A-AU-AGG---CGC-C-G-G-U---GC---...--- 2288\n",
            "...\n",
            "------AC-GG-C-C-AU-AGG----AC-U-C-U-G---AA---...--- 5331\n"
          ],
          "name": "stdout"
        }
      ]
    },
    {
      "cell_type": "code",
      "metadata": {
        "colab": {
          "base_uri": "https://localhost:8080/"
        },
        "id": "EzoasqCTocKe",
        "outputId": "b06bf87e-a639-4460-aeb0-59a07fe9c7a8"
      },
      "source": [
        "calculator = DistanceCalculator('identity')\n",
        "mat_dist = calculator.get_distance(dataWithIDtax)\n",
        "#Constructeur pour les arbres\n",
        "constructor = DistanceTreeConstructor()\n",
        "tree_nj = constructor.nj(mat_dist)\n",
        "#print(tree_nj)\n",
        "  # write the information of tree in the \"newick\"format \n",
        "tree_nj_nwk = tree_nj.format(\"newick\")\n",
        "print(tree_nj_nwk)"
      ],
      "execution_count": 315,
      "outputs": [
        {
          "output_type": "stream",
          "text": [
            "(((((689:0.00217,28169:0.00217)Inner5:0.06458,414:0.08107)Inner12:0.02722,((1393:0.06834,(1404:0.02948,1402:0.02704)Inner11:0.02297)Inner17:0.01082,((120:0.10593,275:0.08103)Inner15:0.01337,(1144275:0.05723,(33889:0.09607,76726:0.04740)Inner10:0.02755)Inner16:0.00673)Inner18:0.00643)Inner19:0.00688)Inner21:0.00565,(929563:0.07717,(2221:0.11304,(2288:0.13860,((58927:0.07160,(3702:0.08424,112518:0.08533)Inner3:0.02188)Inner6:0.04502,(6304:0.10838,(5281:0.04126,(5331:0.04135,(40145:0.01862,5342:0.01616)Inner1:0.01517)Inner2:0.03048)Inner4:0.04325)Inner7:0.01306)Inner8:0.02136)Inner9:0.02127)Inner13:0.01899)Inner20:0.00700)Inner22:0.00172,(2148:0.10846,743971:0.12632)Inner14:0.01187,1247:0.11422)Inner23:0.00000;\n",
            "\n"
          ],
          "name": "stdout"
        }
      ]
    },
    {
      "cell_type": "code",
      "metadata": {
        "colab": {
          "base_uri": "https://localhost:8080/"
        },
        "id": "cDQW_ZjmlHrz",
        "outputId": "d214bd4b-4b16-4d6e-e38c-2b1ea3fa4aee"
      },
      "source": [
        "#Créer le arbre newick qui a les noms mélangés.\n",
        "tree_nj_nomMelange_nwk = melange_newick(dataWithIDtax)\n",
        "print(tree_nj_nomMelange_nwk)"
      ],
      "execution_count": 316,
      "outputs": [
        {
          "output_type": "stream",
          "text": [
            "(((929563:0.07717,(2221:0.11304,(2288:0.13860,((58927:0.07160,(3702:0.08424,112518:0.08533)Inner3:0.02188)Inner6:0.04502,(6304:0.10838,(5281:0.04126,(5331:0.04135,(5342:0.01616,40145:0.01862)Inner1:0.01517)Inner2:0.03048)Inner4:0.04325)Inner7:0.01306)Inner8:0.02136)Inner9:0.02127)Inner13:0.01899)Inner20:0.00700,((414:0.08107,(689:0.00217,28169:0.00217)Inner5:0.06458)Inner12:0.02722,(((120:0.10593,275:0.08103)Inner15:0.01337,(1144275:0.05723,(33889:0.09607,76726:0.04740)Inner10:0.02755)Inner16:0.00673)Inner18:0.00643,(1393:0.06834,(1404:0.02948,1402:0.02704)Inner11:0.02297)Inner17:0.01082)Inner19:0.00688)Inner21:0.00565)Inner22:0.00172,1247:0.11422,(2148:0.10846,743971:0.12632)Inner14:0.01187)Inner23:0.00000;\n",
            "\n"
          ],
          "name": "stdout"
        }
      ]
    },
    {
      "cell_type": "code",
      "metadata": {
        "colab": {
          "base_uri": "https://localhost:8080/"
        },
        "id": "LRsKuvVb6lFg",
        "outputId": "bba4f58f-888e-4955-f47e-f1087ecfb86e"
      },
      "source": [
        "# (3.1) Calculer la distance Robinson-Foulds de l’arbre NJ et le vrai arbre NCBI\n",
        "from ete3 import Tree\n",
        "\n",
        "arbre_nj = Tree(tree_nj_nwk,format=1)\n",
        "arbre_nj_nomMelange = Tree(tree_nj_nomMelange_nwk,format=1)\n",
        "arbre_ncbi = Tree(tree_ncbi_nwk,format=1)\n",
        "\n",
        "rf_nj_ncbi, maxrf, commonleaves, partst1, partst2, _ , _= arbre_nj.robinson_foulds(arbre_ncbi,unrooted_trees=True)\n",
        "\n",
        "print(\"RF distance is %s over a total of %s\" %(rf_nj_ncbi, maxrf))\n",
        "print(\"Partitions in arbre_ncbi that were not found in arbre_nj:\", partst1 - partst2)\n",
        "print(\"Partitions in arbre_nj that were not found in arbre_ncbi:\", partst2 - partst1)\n"
      ],
      "execution_count": 317,
      "outputs": [
        {
          "output_type": "stream",
          "text": [
            "RF distance is 14 over a total of 40\n",
            "Partitions in arbre_ncbi that were not found in arbre_nj: {(('112518', '2288', '3702', '40145', '5281', '5331', '5342', '58927', '6304'), ('1144275', '120', '1247', '1393', '1402', '1404', '2148', '2221', '275', '28169', '33889', '414', '689', '743971', '76726', '929563')), (('112518', '1247', '2148', '2221', '2288', '3702', '40145', '5281', '5331', '5342', '58927', '6304', '743971', '929563'), ('1144275', '120', '1393', '1402', '1404', '275', '28169', '33889', '414', '689', '76726')), (('112518', '1247', '2148', '2221', '2288', '28169', '3702', '40145', '414', '5281', '5331', '5342', '58927', '6304', '689', '743971', '929563'), ('1144275', '120', '1393', '1402', '1404', '275', '33889', '76726')), (('112518', '120', '1247', '1393', '1402', '1404', '2148', '2221', '2288', '275', '28169', '3702', '40145', '414', '5281', '5331', '5342', '58927', '6304', '689', '743971', '929563'), ('1144275', '33889', '76726')), (('112518', '2221', '2288', '3702', '40145', '5281', '5331', '5342', '58927', '6304', '929563'), ('1144275', '120', '1247', '1393', '1402', '1404', '2148', '275', '28169', '33889', '414', '689', '743971', '76726')), (('112518', '3702'), ('1144275', '120', '1247', '1393', '1402', '1404', '2148', '2221', '2288', '275', '28169', '33889', '40145', '414', '5281', '5331', '5342', '58927', '6304', '689', '743971', '76726', '929563')), (('112518', '1144275', '120', '1393', '1402', '1404', '2221', '2288', '275', '28169', '33889', '3702', '40145', '414', '5281', '5331', '5342', '58927', '6304', '689', '76726', '929563'), ('1247', '2148', '743971')), (('112518', '1144275', '1247', '1393', '1402', '1404', '2148', '2221', '2288', '28169', '33889', '3702', '40145', '414', '5281', '5331', '5342', '58927', '6304', '689', '743971', '76726', '929563'), ('120', '275')), (('112518', '1247', '1393', '1402', '1404', '2148', '2221', '2288', '28169', '3702', '40145', '414', '5281', '5331', '5342', '58927', '6304', '689', '743971', '929563'), ('1144275', '120', '275', '33889', '76726'))}\n",
            "Partitions in arbre_nj that were not found in arbre_ncbi: {(('112518', '120', '1247', '1393', '1402', '1404', '2148', '2221', '2288', '275', '33889', '3702', '40145', '5281', '5331', '5342', '58927', '6304', '743971', '76726', '929563'), ('1144275', '28169', '414', '689')), (('112518', '58927'), ('1144275', '120', '1247', '1393', '1402', '1404', '2148', '2221', '2288', '275', '28169', '33889', '3702', '40145', '414', '5281', '5331', '5342', '6304', '689', '743971', '76726', '929563')), (('112518', '1144275', '120', '2221', '2288', '28169', '3702', '40145', '414', '5281', '5331', '5342', '58927', '6304', '689', '929563'), ('1247', '1393', '1402', '1404', '2148', '275', '33889', '743971', '76726')), (('112518', '1144275', '120', '2148', '2221', '2288', '275', '28169', '33889', '3702', '40145', '414', '5281', '5331', '5342', '58927', '6304', '689', '743971', '76726', '929563'), ('1247', '1393', '1402', '1404')), (('112518', '1144275', '120', '1247', '1393', '1402', '1404', '2148', '275', '28169', '33889', '3702', '40145', '414', '5281', '5331', '5342', '58927', '6304', '689', '743971', '76726', '929563'), ('2221', '2288'))}\n"
          ],
          "name": "stdout"
        }
      ]
    },
    {
      "cell_type": "code",
      "metadata": {
        "id": "0Uw0Hy_k8jud"
      },
      "source": [
        "#arbre_nj.compare(arbre_ncbi,unrooted=True)"
      ],
      "execution_count": null,
      "outputs": []
    },
    {
      "cell_type": "code",
      "metadata": {
        "colab": {
          "base_uri": "https://localhost:8080/"
        },
        "id": "XfQm-JubR28v",
        "outputId": "bbc32cd3-2a7c-4f0b-c0da-039072ce1cba"
      },
      "source": [
        "# (3.2) Calculer la distance Robinson-Foulds de l’arbre mélangé et le vrai arbre NCBI\n",
        "rf_nomMelange_nj, maxrf, commonleaves, partst1, partst2, _ , _= arbre_nj_nomMelange.robinson_foulds(arbre_ncbi,unrooted_trees=True)\n",
        "\n",
        "print(\"RF distance is %s over a total of %s\" %(rf_nomMelange_nj, maxrf))\n",
        "print(\"Partitions in arbre_ncbi that were not found in arbre_nj_nomMelange:\", partst1 - partst2)\n",
        "print(\"Partitions in arbre_nj_nomMelange that were not found in arbre_ncbi:\", partst2 - partst1)\n"
      ],
      "execution_count": 318,
      "outputs": [
        {
          "output_type": "stream",
          "text": [
            "RF distance is 14 over a total of 40\n",
            "Partitions in arbre_ncbi that were not found in arbre_nj_nomMelange: {(('112518', '2288', '3702', '40145', '5281', '5331', '5342', '58927', '6304'), ('1144275', '120', '1247', '1393', '1402', '1404', '2148', '2221', '275', '28169', '33889', '414', '689', '743971', '76726', '929563')), (('112518', '1247', '2148', '2221', '2288', '3702', '40145', '5281', '5331', '5342', '58927', '6304', '743971', '929563'), ('1144275', '120', '1393', '1402', '1404', '275', '28169', '33889', '414', '689', '76726')), (('112518', '1247', '2148', '2221', '2288', '28169', '3702', '40145', '414', '5281', '5331', '5342', '58927', '6304', '689', '743971', '929563'), ('1144275', '120', '1393', '1402', '1404', '275', '33889', '76726')), (('112518', '120', '1247', '1393', '1402', '1404', '2148', '2221', '2288', '275', '28169', '3702', '40145', '414', '5281', '5331', '5342', '58927', '6304', '689', '743971', '929563'), ('1144275', '33889', '76726')), (('112518', '2221', '2288', '3702', '40145', '5281', '5331', '5342', '58927', '6304', '929563'), ('1144275', '120', '1247', '1393', '1402', '1404', '2148', '275', '28169', '33889', '414', '689', '743971', '76726')), (('112518', '3702'), ('1144275', '120', '1247', '1393', '1402', '1404', '2148', '2221', '2288', '275', '28169', '33889', '40145', '414', '5281', '5331', '5342', '58927', '6304', '689', '743971', '76726', '929563')), (('112518', '1144275', '120', '1393', '1402', '1404', '2221', '2288', '275', '28169', '33889', '3702', '40145', '414', '5281', '5331', '5342', '58927', '6304', '689', '76726', '929563'), ('1247', '2148', '743971')), (('112518', '1144275', '1247', '1393', '1402', '1404', '2148', '2221', '2288', '28169', '33889', '3702', '40145', '414', '5281', '5331', '5342', '58927', '6304', '689', '743971', '76726', '929563'), ('120', '275')), (('112518', '1247', '1393', '1402', '1404', '2148', '2221', '2288', '28169', '3702', '40145', '414', '5281', '5331', '5342', '58927', '6304', '689', '743971', '929563'), ('1144275', '120', '275', '33889', '76726'))}\n",
            "Partitions in arbre_nj_nomMelange that were not found in arbre_ncbi: {(('112518', '120', '1247', '1393', '1402', '1404', '2148', '2221', '2288', '275', '33889', '3702', '40145', '5281', '5331', '5342', '58927', '6304', '743971', '76726', '929563'), ('1144275', '28169', '414', '689')), (('112518', '58927'), ('1144275', '120', '1247', '1393', '1402', '1404', '2148', '2221', '2288', '275', '28169', '33889', '3702', '40145', '414', '5281', '5331', '5342', '6304', '689', '743971', '76726', '929563')), (('112518', '1144275', '120', '2221', '2288', '28169', '3702', '40145', '414', '5281', '5331', '5342', '58927', '6304', '689', '929563'), ('1247', '1393', '1402', '1404', '2148', '275', '33889', '743971', '76726')), (('112518', '1144275', '120', '2148', '2221', '2288', '275', '28169', '33889', '3702', '40145', '414', '5281', '5331', '5342', '58927', '6304', '689', '743971', '76726', '929563'), ('1247', '1393', '1402', '1404')), (('112518', '1144275', '120', '1247', '1393', '1402', '1404', '2148', '275', '28169', '33889', '3702', '40145', '414', '5281', '5331', '5342', '58927', '6304', '689', '743971', '76726', '929563'), ('2221', '2288'))}\n"
          ],
          "name": "stdout"
        }
      ]
    },
    {
      "cell_type": "code",
      "metadata": {
        "id": "i3txiC0rEefO",
        "colab": {
          "base_uri": "https://localhost:8080/"
        },
        "outputId": "d6404f84-2b0a-464f-d258-60920d0c6e3a"
      },
      "source": [
        "#Calculer le ratio entre la distance Robinson-Foulds de l’arbre NJ \n",
        "#et le vrai arbre NCBI divisé par la distance Robinson-Foulds de\n",
        "#l’arbre mélangé et le vrai arbre NCBI.\n",
        "\n",
        "ratio_RF = rf_nj_ncbi/rf_nomMelange_nj\n",
        "ratio_RF"
      ],
      "execution_count": 319,
      "outputs": [
        {
          "output_type": "execute_result",
          "data": {
            "text/plain": [
              "1.0"
            ]
          },
          "metadata": {
            "tags": []
          },
          "execution_count": 319
        }
      ]
    },
    {
      "cell_type": "code",
      "metadata": {
        "colab": {
          "base_uri": "https://localhost:8080/",
          "height": 288
        },
        "id": "ccu3fyxvzg-p",
        "outputId": "15fb5078-c5b8-4175-f11a-d8efde671ffd"
      },
      "source": [
        "# Faire la figure\n",
        "import seaborn as sns\n",
        "import matplotlib.pyplot as plt\n",
        "from matplotlib.pyplot import figure\n",
        "import numpy as np\n",
        "\n",
        "x = np.array([1,2,3,4,5,6,7,8,9,10])\n",
        "y = np.array([0.579,0.368,0.316,0.550,0.538,0.538,0.538,0.526,0.641,0.800])\n",
        "plt.figure()\n",
        "\n",
        "plt.scatter(x,y)\n",
        "\n",
        "plt.xlabel(\"Les echantillons\",fontsize = 20)\n",
        "plt.ylabel(\"Ratio(a/b)\",fontsize=20)\n",
        "\n",
        "\n",
        "plt.savefig('ratio_rf_RF00001_ratio_a_b')\n"
      ],
      "execution_count": 321,
      "outputs": [
        {
          "output_type": "display_data",
          "data": {
            "image/png": "[encoded data removed]",
            "text/plain": [
              "<Figure size 432x288 with 1 Axes>"
            ]
          },
          "metadata": {
            "tags": [],
            "needs_background": "light"
          }
        }
      ]
    },
    {
      "cell_type": "code",
      "metadata": {
        "colab": {
          "base_uri": "https://localhost:8080/",
          "height": 288
        },
        "id": "_FLyM8ab_o-V",
        "outputId": "3cba4943-e61d-4a89-c9a3-3358250b33fd"
      },
      "source": [
        "# Faire la figure\n",
        "import seaborn as sns\n",
        "import matplotlib.pyplot as plt\n",
        "from matplotlib.pyplot import figure\n",
        "import numpy as np\n",
        "\n",
        "x = np.array([1,2,3,4,5,6,7,8,9,10])\n",
        "y = np.array([1,1,1,1,1,1,1,1,1,1])\n",
        "plt.figure()\n",
        "\n",
        "plt.scatter(x,y)\n",
        "\n",
        "plt.xlabel(\"Les echantillons\",fontsize = 20)\n",
        "plt.ylabel(\"Ratio(a/c)\",fontsize=20)\n",
        "\n",
        "\n",
        "plt.savefig('ratio_rf_RF00001_ratio_a_c')\n"
      ],
      "execution_count": 322,
      "outputs": [
        {
          "output_type": "display_data",
          "data": {
            "image/png": "[encoded data removed]",
            "text/plain": [
              "<Figure size 432x288 with 1 Axes>"
            ]
          },
          "metadata": {
            "tags": [],
            "needs_background": "light"
          }
        }
      ]
    }
  ]
}